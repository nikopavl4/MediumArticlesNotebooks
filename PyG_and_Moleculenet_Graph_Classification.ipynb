{
  "nbformat": 4,
  "nbformat_minor": 0,
  "metadata": {
    "colab": {
      "provenance": []
    },
    "kernelspec": {
      "name": "python3",
      "display_name": "Python 3"
    },
    "language_info": {
      "name": "python"
    }
  },
  "cells": [
    {
      "cell_type": "markdown",
      "source": [
        "## PyTorch Geometric for Graph-Based Molecular Property Prediction using MoleculeNet benchmark\n",
        "\n"
      ],
      "metadata": {
        "id": "i0nmOIhq3Yb-"
      }
    },
    {
      "cell_type": "markdown",
      "source": [
        "> ### This notebook contains the full code that was used to support the article *PyTorch Geometric for Graph-Based Molecular Property Prediction using MoleculeNet benchmark* on Medium. You can find the article [here](https://medium.com/@nikopavl4/pytorch-geometric-for-graph-based-molecular-property-prediction-using-moleculenet-benchmark-41e36369d3c6)."
      ],
      "metadata": {
        "id": "k1stSq2n3fzj"
      }
    },
    {
      "cell_type": "code",
      "source": [
        "# Install required packages. PyTorch Geometric & Rdkit\n",
        "!pip install -q torch-scatter -f https://data.pyg.org/whl/torch-${TORCH}.html\n",
        "!pip install -q torch-sparse -f https://data.pyg.org/whl/torch-${TORCH}.html\n",
        "!pip install -q git+https://github.com/pyg-team/pytorch_geometric.git\n",
        "!pip install rdkit"
      ],
      "metadata": {
        "colab": {
          "base_uri": "https://localhost:8080/"
        },
        "id": "1IyRo5eh2IVk",
        "outputId": "995e8bf8-d853-4fd1-920d-b20721e79634"
      },
      "execution_count": 36,
      "outputs": [
        {
          "output_type": "stream",
          "name": "stdout",
          "text": [
            "Looking in indexes: https://pypi.org/simple, https://us-python.pkg.dev/colab-wheels/public/simple/\n",
            "Requirement already satisfied: rdkit in /usr/local/lib/python3.8/dist-packages (2022.9.3)\n",
            "Requirement already satisfied: numpy in /usr/local/lib/python3.8/dist-packages (from rdkit) (1.21.6)\n",
            "Requirement already satisfied: Pillow in /usr/local/lib/python3.8/dist-packages (from rdkit) (7.1.2)\n"
          ]
        }
      ]
    },
    {
      "cell_type": "markdown",
      "source": [
        "\n",
        "### Load Dataset\n",
        "\n"
      ],
      "metadata": {
        "id": "Z9yNjoTE1HE6"
      }
    },
    {
      "cell_type": "code",
      "execution_count": 37,
      "metadata": {
        "colab": {
          "base_uri": "https://localhost:8080/"
        },
        "id": "YH1-8fvk0VlN",
        "outputId": "f33b0cf4-198d-43a6-fe6b-1a09a828aecb"
      },
      "outputs": [
        {
          "output_type": "stream",
          "name": "stdout",
          "text": [
            "\n",
            "Dataset: Tox21(7831):\n",
            "====================\n",
            "Number of graphs: 7831\n",
            "Number of features: 9\n",
            "Number of classes: 12\n",
            "\n",
            "Data(x=[16, 9], edge_index=[2, 34], edge_attr=[34, 3], smiles='CCOc1ccc2nc(S(N)(=O)=O)sc2c1', y=[1, 12])\n",
            "=============================================================\n",
            "Number of nodes: 16\n",
            "Number of edges: 34\n",
            "Average node degree: 2.12\n",
            "Has isolated nodes: False\n",
            "Has self-loops: False\n",
            "Is undirected: True\n"
          ]
        }
      ],
      "source": [
        "import torch\n",
        "from torch_geometric.datasets import MoleculeNet\n",
        "\n",
        "dataset = MoleculeNet(root=\".\", name=\"Tox21\")\n",
        "\n",
        "print()\n",
        "print(f'Dataset: {dataset}:')\n",
        "print('====================')\n",
        "print(f'Number of graphs: {len(dataset)}')\n",
        "print(f'Number of features: {dataset.num_features}')\n",
        "print(f'Number of classes: {dataset.num_classes}')\n",
        "\n",
        "data = dataset[0]  # Get the first graph object.\n",
        "\n",
        "print()\n",
        "print(data)\n",
        "print('=============================================================')\n",
        "\n",
        "# Gather some statistics about the first graph.\n",
        "print(f'Number of nodes: {data.num_nodes}')\n",
        "print(f'Number of edges: {data.num_edges}')\n",
        "print(f'Average node degree: {data.num_edges / data.num_nodes:.2f}')\n",
        "print(f'Has isolated nodes: {data.has_isolated_nodes()}')\n",
        "print(f'Has self-loops: {data.has_self_loops()}')\n",
        "print(f'Is undirected: {data.is_undirected()}')"
      ]
    },
    {
      "cell_type": "code",
      "source": [
        "# How dataset node features look like\n",
        "print(data.x)"
      ],
      "metadata": {
        "colab": {
          "base_uri": "https://localhost:8080/"
        },
        "id": "cgnCXtP-3dda",
        "outputId": "88bf57a9-b2d2-4faf-9d8c-3a52fdb3e895"
      },
      "execution_count": 38,
      "outputs": [
        {
          "output_type": "stream",
          "name": "stdout",
          "text": [
            "tensor([[ 6,  0,  4,  5,  3,  0,  4,  0,  0],\n",
            "        [ 6,  0,  4,  5,  2,  0,  4,  0,  0],\n",
            "        [ 8,  0,  2,  5,  0,  0,  3,  0,  0],\n",
            "        [ 6,  0,  3,  5,  0,  0,  3,  1,  1],\n",
            "        [ 6,  0,  3,  5,  1,  0,  3,  1,  1],\n",
            "        [ 6,  0,  3,  5,  1,  0,  3,  1,  1],\n",
            "        [ 6,  0,  3,  5,  0,  0,  3,  1,  1],\n",
            "        [ 7,  0,  2,  5,  0,  0,  3,  1,  1],\n",
            "        [ 6,  0,  3,  5,  0,  0,  3,  1,  1],\n",
            "        [16,  0,  4,  5,  0,  0,  4,  0,  0],\n",
            "        [ 7,  0,  3,  5,  2,  0,  4,  0,  0],\n",
            "        [ 8,  0,  1,  5,  0,  0,  3,  0,  0],\n",
            "        [ 8,  0,  1,  5,  0,  0,  3,  0,  0],\n",
            "        [16,  0,  2,  5,  0,  0,  3,  1,  1],\n",
            "        [ 6,  0,  3,  5,  0,  0,  3,  1,  1],\n",
            "        [ 6,  0,  3,  5,  1,  0,  3,  1,  1]])\n"
          ]
        }
      ]
    },
    {
      "cell_type": "markdown",
      "source": [
        "### Feature Engineering\n",
        "\n",
        "Since the features provided by Moleculenet is discrete and of type long, we need to convert them to continuous embeddings. There many ways to do this, we will simply use the Embedding module provided by PyTorch in an AtomEncoder."
      ],
      "metadata": {
        "id": "LSPZgN8p5BAA"
      }
    },
    {
      "cell_type": "code",
      "source": [
        "class AtomEncoder(torch.nn.Module):\n",
        "    def __init__(self, hidden_channels):\n",
        "        super(AtomEncoder, self).__init__()\n",
        "\n",
        "        self.embeddings = torch.nn.ModuleList()\n",
        "\n",
        "        for i in range(dataset.num_features):\n",
        "            self.embeddings.append(torch.nn.Embedding(100, hidden_channels)) #num of embedding must be larger than the max num of nodes that any graph has\n",
        "\n",
        "    def reset_parameters(self):\n",
        "        for embedding in self.embeddings:\n",
        "            embedding.reset_parameters()\n",
        "\n",
        "    def forward(self, x):\n",
        "        if x.dim() == 1:\n",
        "            x = x.unsqueeze(1)\n",
        "\n",
        "        out = 0\n",
        "        for i in range(x.size(1)):\n",
        "            out += self.embeddings[i](x[:, i])\n",
        "        return out"
      ],
      "metadata": {
        "id": "eRL33hrj4YqD"
      },
      "execution_count": 39,
      "outputs": []
    },
    {
      "cell_type": "code",
      "source": [
        "# Create a toy sample of AtomEncoder\n",
        "SimpleEncoder = AtomEncoder(hidden_channels=32)\n",
        "# Print the embeddings weight matrix for the first feature\n",
        "print(SimpleEncoder.embeddings[0].weight)\n",
        "# The result after first graph passes the AtomEncoder\n",
        "print(SimpleEncoder(data.x))\n"
      ],
      "metadata": {
        "colab": {
          "base_uri": "https://localhost:8080/"
        },
        "id": "Bv56OWlSxdBT",
        "outputId": "90088d87-291a-48ba-c9c7-01e72c5e0327"
      },
      "execution_count": 40,
      "outputs": [
        {
          "output_type": "stream",
          "name": "stdout",
          "text": [
            "Parameter containing:\n",
            "tensor([[-0.4098, -1.4001,  0.0499,  ..., -1.8789, -1.9344, -2.5145],\n",
            "        [-1.2677,  0.4914, -1.9928,  ..., -0.3778, -0.8279,  0.8969],\n",
            "        [-0.5105, -0.5357, -0.5866,  ..., -1.1122,  1.2513, -0.3600],\n",
            "        ...,\n",
            "        [-1.7138,  0.1144,  0.2715,  ..., -1.2818, -1.7340,  0.6490],\n",
            "        [ 1.3216,  0.4623, -1.8051,  ..., -0.9364,  1.6566,  0.3482],\n",
            "        [-0.1843, -1.3068, -0.0717,  ...,  1.5038,  0.6817, -0.6077]],\n",
            "       requires_grad=True)\n",
            "tensor([[ 1.3798,  6.2299, -2.2655,  3.0046, -1.8114,  2.9269, -1.6632, -1.2371,\n",
            "          2.9854, -1.9348, -0.0806, -3.4514,  3.5337,  2.5041, -1.7789,  0.7235,\n",
            "         -0.7574,  3.3493, -2.9603, -0.1788,  1.1836, -2.2927,  0.6847,  1.7603,\n",
            "         -1.8460,  2.0293, -4.5602, -1.0920, -0.7553,  0.7818,  5.5969, -0.3150],\n",
            "        [-0.3935,  2.5632,  0.2443,  4.1274, -2.2834,  5.2282, -0.8490,  0.5305,\n",
            "          1.3624, -0.8127, -1.1887, -0.0944,  3.8778, -0.9077, -1.2529,  1.5761,\n",
            "         -3.3738,  2.3159, -3.4849,  0.9110,  1.7834, -3.2617,  0.0836,  4.4127,\n",
            "         -3.6032,  2.4928, -2.8931, -3.8351, -0.3755,  1.6242,  4.9749,  1.0638],\n",
            "        [ 0.7223,  2.7750,  3.1243, -1.4453, -0.2063,  5.4344,  1.2924,  0.7306,\n",
            "          3.9440, -2.9579,  1.5042, -1.4360,  1.2425, -1.1916,  2.1398,  2.3105,\n",
            "         -0.1696,  3.3587, -0.2741, -1.1363,  0.4132, -2.1272, -1.1332,  6.2690,\n",
            "         -5.0437,  2.0650,  1.5007,  2.7512,  0.9000, -0.1674,  6.1074,  0.2423],\n",
            "        [-1.1134,  1.4285,  1.0939,  3.8004,  1.2898,  3.2772,  2.5732, -1.0853,\n",
            "          1.7319, -1.4174,  0.7892, -2.7095,  3.5456,  1.2252,  2.7500, -0.6601,\n",
            "         -2.9266,  3.7866,  1.8659, -4.0381,  2.9757, -5.4537, -1.0460,  6.8832,\n",
            "          1.1254,  0.1157, -2.0335, -1.7990, -2.1985,  2.7660,  4.8904, -2.6522],\n",
            "        [-0.8379,  1.5216, -0.6559,  3.9889,  1.2299,  2.2901,  3.6279, -1.4543,\n",
            "          1.5217, -2.2583, -0.4054, -3.9973,  2.2250,  1.4617,  0.8832, -0.5340,\n",
            "         -2.8914,  3.6464,  1.6493, -1.2782,  1.4734, -5.4888, -0.8468,  7.1810,\n",
            "          1.8056,  0.2495, -5.0571, -0.6794, -1.9973,  2.2463,  3.9917, -1.6333],\n",
            "        [-0.8379,  1.5216, -0.6559,  3.9889,  1.2299,  2.2901,  3.6279, -1.4543,\n",
            "          1.5217, -2.2583, -0.4054, -3.9973,  2.2250,  1.4617,  0.8832, -0.5340,\n",
            "         -2.8914,  3.6464,  1.6493, -1.2782,  1.4734, -5.4888, -0.8468,  7.1810,\n",
            "          1.8056,  0.2495, -5.0571, -0.6794, -1.9973,  2.2463,  3.9917, -1.6333],\n",
            "        [-1.1134,  1.4285,  1.0939,  3.8004,  1.2898,  3.2772,  2.5732, -1.0853,\n",
            "          1.7319, -1.4174,  0.7892, -2.7095,  3.5456,  1.2252,  2.7500, -0.6601,\n",
            "         -2.9266,  3.7866,  1.8659, -4.0381,  2.9757, -5.4537, -1.0460,  6.8832,\n",
            "          1.1254,  0.1157, -2.0335, -1.7990, -2.1985,  2.7660,  4.8904, -2.6522],\n",
            "        [-0.8441,  2.0656,  2.9963,  1.0621,  0.2659,  3.2060,  2.7347, -0.6392,\n",
            "          3.5231,  1.1332, -2.1860, -2.5152,  3.2402, -2.2125,  4.7102,  1.2019,\n",
            "         -3.1269,  5.3076,  1.0789, -3.0499, -0.2339, -4.1100, -2.6330,  4.9991,\n",
            "         -3.1419, -2.6209,  0.7404,  1.8867, -3.3259,  2.8295,  3.7418, -1.0349],\n",
            "        [-1.1134,  1.4285,  1.0939,  3.8004,  1.2898,  3.2772,  2.5732, -1.0853,\n",
            "          1.7319, -1.4174,  0.7892, -2.7095,  3.5456,  1.2252,  2.7500, -0.6601,\n",
            "         -2.9266,  3.7866,  1.8659, -4.0381,  2.9757, -5.4537, -1.0460,  6.8832,\n",
            "          1.1254,  0.1157, -2.0335, -1.7990, -2.1985,  2.7660,  4.8904, -2.6522],\n",
            "        [ 0.5780,  5.5098,  1.1153,  1.9672,  0.5858,  3.6671,  1.7272, -1.2069,\n",
            "          2.5999, -1.4777,  0.4049, -1.8847,  3.3475,  0.2710, -0.3867,  0.6608,\n",
            "         -1.7738,  3.9055, -3.2973, -3.0604,  2.2259, -0.5053, -2.6338,  3.6825,\n",
            "         -4.5599,  2.0506, -2.0635,  0.0662, -1.1359,  1.4359,  6.1622,  1.0481],\n",
            "        [ 0.5932, -0.2516, -0.3615,  3.4728, -2.7543,  4.7576, -0.3420,  0.5982,\n",
            "          0.4336, -1.3200,  1.0255, -0.0921,  2.9966, -1.8795, -3.7541,  0.8674,\n",
            "         -4.1840,  1.9090, -2.1278,  1.8221, -0.1040, -5.2939, -2.7151,  3.2850,\n",
            "         -5.4531,  2.1143, -1.6790, -1.5531, -0.7949,  1.4756,  6.7973,  3.4989],\n",
            "        [ 1.9980,  1.9164,  4.5942, -0.7110,  1.4688,  6.5356, -0.6127, -0.0105,\n",
            "          3.2853, -3.6324,  2.0890, -1.8339,  1.2402,  0.8115, -0.3325,  1.4683,\n",
            "         -0.7150,  1.2009, -0.1403, -3.7555,  2.9734, -4.0414, -2.7441,  3.8230,\n",
            "         -3.7346,  4.2596,  1.3155,  2.2422,  0.5062,  0.2283,  5.5337,  0.1156],\n",
            "        [ 1.9980,  1.9164,  4.5942, -0.7110,  1.4688,  6.5356, -0.6127, -0.0105,\n",
            "          3.2853, -3.6324,  2.0890, -1.8339,  1.2402,  0.8115, -0.3325,  1.4683,\n",
            "         -0.7150,  1.2009, -0.1403, -3.7555,  2.9734, -4.0414, -2.7441,  3.8230,\n",
            "         -3.7346,  4.2596,  1.3155,  2.2422,  0.5062,  0.2283,  5.5337,  0.1156],\n",
            "        [-2.4114,  3.5527,  3.2849,  0.1829,  1.3854,  2.7432,  4.1029, -1.1592,\n",
            "          2.5147, -0.9364, -1.9344, -2.1563,  1.5660, -1.3346,  3.7765,  0.5176,\n",
            "         -1.3828,  7.6667,  1.2045, -3.3886,  2.0028, -2.6180, -1.9756,  6.5700,\n",
            "          0.2215, -0.7287, -0.0519,  0.4958, -1.1380,  1.0222,  2.0081, -1.4294],\n",
            "        [-1.1134,  1.4285,  1.0939,  3.8004,  1.2898,  3.2772,  2.5732, -1.0853,\n",
            "          1.7319, -1.4174,  0.7892, -2.7095,  3.5456,  1.2252,  2.7500, -0.6601,\n",
            "         -2.9266,  3.7866,  1.8659, -4.0381,  2.9757, -5.4537, -1.0460,  6.8832,\n",
            "          1.1254,  0.1157, -2.0335, -1.7990, -2.1985,  2.7660,  4.8904, -2.6522],\n",
            "        [-0.8379,  1.5216, -0.6559,  3.9889,  1.2299,  2.2901,  3.6279, -1.4543,\n",
            "          1.5217, -2.2583, -0.4054, -3.9973,  2.2250,  1.4617,  0.8832, -0.5340,\n",
            "         -2.8914,  3.6464,  1.6493, -1.2782,  1.4734, -5.4888, -0.8468,  7.1810,\n",
            "          1.8056,  0.2495, -5.0571, -0.6794, -1.9973,  2.2463,  3.9917, -1.6333]],\n",
            "       grad_fn=<AddBackward0>)\n"
          ]
        }
      ]
    },
    {
      "cell_type": "markdown",
      "source": [
        "### Initialize the model and split the dataset"
      ],
      "metadata": {
        "id": "RkqbG2Hi6yGo"
      }
    },
    {
      "cell_type": "code",
      "source": [
        "from torch_geometric.loader import DataLoader\n",
        "# We simply split the dataset by explicitly define a cutoff for training dataset (7831 graphs = 7000 training, 831 test)\n",
        "train_dataset = dataset[:7000]\n",
        "test_dataset = dataset[7000:]\n",
        "train_loader = DataLoader(train_dataset, batch_size=32, shuffle=True)\n",
        "test_loader = DataLoader(test_dataset, batch_size=32, shuffle=False)"
      ],
      "metadata": {
        "id": "bdO7nY2r3_4q"
      },
      "execution_count": 41,
      "outputs": []
    },
    {
      "cell_type": "code",
      "source": [
        "from torch_geometric.nn import GCNConv\n",
        "from torch_geometric.nn import global_mean_pool as gap\n",
        "import torch.nn.functional as F\n",
        "from torch.nn import Linear\n",
        "class GCN(torch.nn.Module):\n",
        "    def __init__(self, hidden_channels, num_node_features, num_classes):\n",
        "        super(GCN, self).__init__()\n",
        "        torch.manual_seed(12345)\n",
        "        self.emb = AtomEncoder(hidden_channels=32)\n",
        "        self.conv1 = GCNConv(hidden_channels,hidden_channels)\n",
        "        self.conv2 = GCNConv(hidden_channels, hidden_channels)\n",
        "        self.conv3 = GCNConv(hidden_channels, hidden_channels)\n",
        "        self.lin = Linear(hidden_channels, num_classes)\n",
        "\n",
        "    def forward(self,batch):\n",
        "        x , edge_index, batch_size = batch.x, batch.edge_index, batch.batch\n",
        "        x = self.emb(x)\n",
        "        # 1. Obtain node embeddings \n",
        "        x = self.conv1(x, edge_index)\n",
        "        x = x.relu()\n",
        "        x = self.conv2(x, edge_index)\n",
        "        x = x.relu()\n",
        "        x = self.conv3(x, edge_index)\n",
        "\n",
        "        # 2. Readout layer\n",
        "        x = gap(x, batch_size)  # [batch_size, hidden_channels]\n",
        "        # 3. Apply a final classifier\n",
        "        x = F.dropout(x, p=0.5, training=self.training)\n",
        "        x = self.lin(x)\n",
        "        return x"
      ],
      "metadata": {
        "id": "8Ty7aSrkxX1m"
      },
      "execution_count": 42,
      "outputs": []
    },
    {
      "cell_type": "code",
      "source": [
        "import torch.optim as optim\n",
        "model = GCN(hidden_channels=32, num_classes=dataset.num_classes, num_node_features=dataset.num_features)\n",
        "optimizer = optim.Adam(model.parameters(), lr=0.001)\n",
        "criterion = torch.nn.BCEWithLogitsLoss()"
      ],
      "metadata": {
        "id": "6VxC--244lul"
      },
      "execution_count": 43,
      "outputs": []
    },
    {
      "cell_type": "markdown",
      "source": [
        "### The train function"
      ],
      "metadata": {
        "id": "viMpmgpD7wFj"
      }
    },
    {
      "cell_type": "code",
      "source": [
        "def train(model, loader, optimizer):\n",
        "    model.train()\n",
        "    # For every batch in train loader\n",
        "    for batch in loader:\n",
        "        if batch.x.shape[0] == 1 or batch.batch[-1] == 0:\n",
        "            pass\n",
        "        else:\n",
        "            pred = model(batch)\n",
        "            optimizer.zero_grad()\n",
        "            ## ignore nan targets (unlabeled) when computing training loss.\n",
        "            is_labeled = batch.y == batch.y\n",
        "            loss = criterion(pred.to(torch.float32)[is_labeled], batch.y.to(torch.float32)[is_labeled])\n",
        "            loss.backward()\n",
        "            optimizer.step()"
      ],
      "metadata": {
        "id": "GncQ14kN41Vd"
      },
      "execution_count": 44,
      "outputs": []
    },
    {
      "cell_type": "markdown",
      "source": [
        "### The test function"
      ],
      "metadata": {
        "id": "8HxJ6p_Y8vSl"
      }
    },
    {
      "cell_type": "code",
      "source": [
        "from sklearn.metrics import roc_auc_score\n",
        "import numpy as np\n",
        "def test(model, loader):\n",
        "    model.eval()\n",
        "    y_true = []\n",
        "    y_pred = []\n",
        "    # For every batch in test loader\n",
        "    for batch in loader:\n",
        "\n",
        "        if batch.x.shape[0] == 1:\n",
        "            pass\n",
        "        else:\n",
        "            with torch.no_grad():\n",
        "                pred = model(batch)\n",
        "\n",
        "            y_true.append(batch.y.view(pred.shape))\n",
        "            y_pred.append(pred)\n",
        "\n",
        "    y_true = torch.cat(y_true, dim = 0).numpy()\n",
        "    y_pred = torch.cat(y_pred, dim = 0).numpy()\n",
        "\n",
        "    # Compute the ROC - AUC score and store as history\n",
        "    rocauc_list = []\n",
        "\n",
        "    for i in range(y_true.shape[1]):\n",
        "        #AUC is only defined when there is at least one positive data.\n",
        "        if np.sum(y_true[:,i] == 1) > 0 and np.sum(y_true[:,i] == 0) > 0:\n",
        "            # ignore nan values\n",
        "            is_labeled = y_true[:,i] == y_true[:,i]\n",
        "            rocauc_list.append(roc_auc_score(y_true[is_labeled,i], y_pred[is_labeled,i]))\n",
        "\n",
        "    if len(rocauc_list) == 0:\n",
        "        raise RuntimeError('No positively labeled data available. Cannot compute ROC-AUC.')\n",
        "\n",
        "    return {'rocauc': sum(rocauc_list)/len(rocauc_list)}"
      ],
      "metadata": {
        "id": "J7qeKxfD5AmV"
      },
      "execution_count": 45,
      "outputs": []
    },
    {
      "cell_type": "code",
      "source": [
        "valid_curve = []\n",
        "test_curve = []\n",
        "train_curve = []\n",
        "test_acc = []\n",
        "\n",
        "for epoch in range(1, 20 + 1):\n",
        "    print(\"Epoch {}\".format(epoch))\n",
        "    # Train model\n",
        "    train(model, train_loader, optimizer)\n",
        "    # Evaluate model\n",
        "    train_perf = test(model, train_loader)\n",
        "    test_perf = test(model, test_loader)\n",
        "\n",
        "    print({'Train': train_perf, 'Test': test_perf})"
      ],
      "metadata": {
        "colab": {
          "base_uri": "https://localhost:8080/"
        },
        "id": "US2Quc8A5UUG",
        "outputId": "0091da45-82f4-407d-bf74-c18dc28c359e"
      },
      "execution_count": 46,
      "outputs": [
        {
          "output_type": "stream",
          "name": "stdout",
          "text": [
            "Epoch 1\n",
            "{'Train': {'rocauc': 0.6483830869621313}, 'Test': {'rocauc': 0.6248126749836761}}\n",
            "Epoch 2\n",
            "{'Train': {'rocauc': 0.707109619034378}, 'Test': {'rocauc': 0.6779452970037646}}\n",
            "Epoch 3\n",
            "{'Train': {'rocauc': 0.7235474943267931}, 'Test': {'rocauc': 0.6833641432311568}}\n",
            "Epoch 4\n",
            "{'Train': {'rocauc': 0.7305193622348054}, 'Test': {'rocauc': 0.6986799900101183}}\n",
            "Epoch 5\n",
            "{'Train': {'rocauc': 0.745452158802868}, 'Test': {'rocauc': 0.7034115130083652}}\n",
            "Epoch 6\n",
            "{'Train': {'rocauc': 0.7554822289478289}, 'Test': {'rocauc': 0.6918026810342117}}\n",
            "Epoch 7\n",
            "{'Train': {'rocauc': 0.7640886757334199}, 'Test': {'rocauc': 0.7076397261231001}}\n",
            "Epoch 8\n",
            "{'Train': {'rocauc': 0.7626600715314367}, 'Test': {'rocauc': 0.7149596571535298}}\n",
            "Epoch 9\n",
            "{'Train': {'rocauc': 0.7702799049391671}, 'Test': {'rocauc': 0.7112732741946953}}\n",
            "Epoch 10\n",
            "{'Train': {'rocauc': 0.7717259955431421}, 'Test': {'rocauc': 0.7294562737325125}}\n",
            "Epoch 11\n",
            "{'Train': {'rocauc': 0.7776402796403983}, 'Test': {'rocauc': 0.7268211563282007}}\n",
            "Epoch 12\n",
            "{'Train': {'rocauc': 0.7736891911058449}, 'Test': {'rocauc': 0.7345022794595231}}\n",
            "Epoch 13\n",
            "{'Train': {'rocauc': 0.7753281961702084}, 'Test': {'rocauc': 0.7365971434925697}}\n",
            "Epoch 14\n",
            "{'Train': {'rocauc': 0.7836741183549635}, 'Test': {'rocauc': 0.7406151150363662}}\n",
            "Epoch 15\n",
            "{'Train': {'rocauc': 0.7835836175127712}, 'Test': {'rocauc': 0.7457547364019296}}\n",
            "Epoch 16\n",
            "{'Train': {'rocauc': 0.7891723768514365}, 'Test': {'rocauc': 0.7447886777943928}}\n",
            "Epoch 17\n",
            "{'Train': {'rocauc': 0.7877199715797869}, 'Test': {'rocauc': 0.7485693037036003}}\n",
            "Epoch 18\n",
            "{'Train': {'rocauc': 0.7910406391414405}, 'Test': {'rocauc': 0.7520058543769624}}\n",
            "Epoch 19\n",
            "{'Train': {'rocauc': 0.7936587403110232}, 'Test': {'rocauc': 0.7546929395766208}}\n",
            "Epoch 20\n",
            "{'Train': {'rocauc': 0.7935051982744713}, 'Test': {'rocauc': 0.7574400051811367}}\n"
          ]
        }
      ]
    }
  ]
}